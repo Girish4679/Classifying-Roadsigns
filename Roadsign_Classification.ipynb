{
 "cells": [
  {
   "cell_type": "markdown",
   "id": "7a8d42c5-dc1f-4015-b922-0fa7452df82f",
   "metadata": {},
   "source": [
    "## Import Modules and Dependencies"
   ]
  },
  {
   "cell_type": "code",
   "execution_count": 6,
   "id": "7c005995-f89a-48c3-a2dc-f504fcf70198",
   "metadata": {},
   "outputs": [],
   "source": [
    "import numpy as np\n",
    "import tensorflow as tf\n",
    "import matplotlib.pyplot as plt\n",
    "from tensorflow.keras import models,layers"
   ]
  },
  {
   "cell_type": "markdown",
   "id": "f52c840c-22cf-4117-bce7-7f9b022ff600",
   "metadata": {},
   "source": [
    "## Load the Dataset"
   ]
  },
  {
   "cell_type": "code",
   "execution_count": 51,
   "id": "429679cd-831c-4385-b0c1-0fcd6606a9a6",
   "metadata": {},
   "outputs": [
    {
     "ename": "NotFoundError",
     "evalue": "Could not find directory /usercode/Roadsign_dataset",
     "output_type": "error",
     "traceback": [
      "\u001b[0;31m---------------------------------------------------------------------------\u001b[0m",
      "\u001b[0;31mNotFoundError\u001b[0m                             Traceback (most recent call last)",
      "Cell \u001b[0;32mIn[51], line 2\u001b[0m\n\u001b[1;32m      1\u001b[0m dataset \u001b[38;5;241m=\u001b[39m \u001b[38;5;124m'\u001b[39m\u001b[38;5;124m/usercode/Roadsign_dataset\u001b[39m\u001b[38;5;124m'\u001b[39m\n\u001b[0;32m----> 2\u001b[0m tf_dataset \u001b[38;5;241m=\u001b[39m tf\u001b[38;5;241m.\u001b[39mkeras\u001b[38;5;241m.\u001b[39mpreprocessing\u001b[38;5;241m.\u001b[39mimage_dataset_from_directory(dataset, seed\u001b[38;5;241m=\u001b[39m\u001b[38;5;241m41\u001b[39m, shuffle\u001b[38;5;241m=\u001b[39m\u001b[38;5;28;01mTrue\u001b[39;00m, image_size\u001b[38;5;241m=\u001b[39m(\u001b[38;5;241m256\u001b[39m,\u001b[38;5;241m256\u001b[39m), batch_size\u001b[38;5;241m=\u001b[39m\u001b[38;5;241m32\u001b[39m)\n",
      "File \u001b[0;32m/opt/anaconda3/lib/python3.12/site-packages/keras/src/utils/image_dataset_utils.py:232\u001b[0m, in \u001b[0;36mimage_dataset_from_directory\u001b[0;34m(directory, labels, label_mode, class_names, color_mode, batch_size, image_size, shuffle, seed, validation_split, subset, interpolation, follow_links, crop_to_aspect_ratio, pad_to_aspect_ratio, data_format, verbose)\u001b[0m\n\u001b[1;32m    230\u001b[0m \u001b[38;5;28;01mif\u001b[39;00m seed \u001b[38;5;129;01mis\u001b[39;00m \u001b[38;5;28;01mNone\u001b[39;00m:\n\u001b[1;32m    231\u001b[0m     seed \u001b[38;5;241m=\u001b[39m np\u001b[38;5;241m.\u001b[39mrandom\u001b[38;5;241m.\u001b[39mrandint(\u001b[38;5;241m1e6\u001b[39m)\n\u001b[0;32m--> 232\u001b[0m image_paths, labels, class_names \u001b[38;5;241m=\u001b[39m dataset_utils\u001b[38;5;241m.\u001b[39mindex_directory(\n\u001b[1;32m    233\u001b[0m     directory,\n\u001b[1;32m    234\u001b[0m     labels,\n\u001b[1;32m    235\u001b[0m     formats\u001b[38;5;241m=\u001b[39mALLOWLIST_FORMATS,\n\u001b[1;32m    236\u001b[0m     class_names\u001b[38;5;241m=\u001b[39mclass_names,\n\u001b[1;32m    237\u001b[0m     shuffle\u001b[38;5;241m=\u001b[39mshuffle,\n\u001b[1;32m    238\u001b[0m     seed\u001b[38;5;241m=\u001b[39mseed,\n\u001b[1;32m    239\u001b[0m     follow_links\u001b[38;5;241m=\u001b[39mfollow_links,\n\u001b[1;32m    240\u001b[0m     verbose\u001b[38;5;241m=\u001b[39mverbose,\n\u001b[1;32m    241\u001b[0m )\n\u001b[1;32m    243\u001b[0m \u001b[38;5;28;01mif\u001b[39;00m label_mode \u001b[38;5;241m==\u001b[39m \u001b[38;5;124m\"\u001b[39m\u001b[38;5;124mbinary\u001b[39m\u001b[38;5;124m\"\u001b[39m \u001b[38;5;129;01mand\u001b[39;00m \u001b[38;5;28mlen\u001b[39m(class_names) \u001b[38;5;241m!=\u001b[39m \u001b[38;5;241m2\u001b[39m:\n\u001b[1;32m    244\u001b[0m     \u001b[38;5;28;01mraise\u001b[39;00m \u001b[38;5;167;01mValueError\u001b[39;00m(\n\u001b[1;32m    245\u001b[0m         \u001b[38;5;124m'\u001b[39m\u001b[38;5;124mWhen passing `label_mode=\u001b[39m\u001b[38;5;124m\"\u001b[39m\u001b[38;5;124mbinary\u001b[39m\u001b[38;5;124m\"\u001b[39m\u001b[38;5;124m`, there must be exactly 2 \u001b[39m\u001b[38;5;124m'\u001b[39m\n\u001b[1;32m    246\u001b[0m         \u001b[38;5;124mf\u001b[39m\u001b[38;5;124m\"\u001b[39m\u001b[38;5;124mclass_names. Received: class_names=\u001b[39m\u001b[38;5;132;01m{\u001b[39;00mclass_names\u001b[38;5;132;01m}\u001b[39;00m\u001b[38;5;124m\"\u001b[39m\n\u001b[1;32m    247\u001b[0m     )\n",
      "File \u001b[0;32m/opt/anaconda3/lib/python3.12/site-packages/keras/src/utils/dataset_utils.py:530\u001b[0m, in \u001b[0;36mindex_directory\u001b[0;34m(directory, labels, formats, class_names, shuffle, seed, follow_links, verbose)\u001b[0m\n\u001b[1;32m    528\u001b[0m \u001b[38;5;28;01mif\u001b[39;00m labels \u001b[38;5;241m==\u001b[39m \u001b[38;5;124m\"\u001b[39m\u001b[38;5;124minferred\u001b[39m\u001b[38;5;124m\"\u001b[39m:\n\u001b[1;32m    529\u001b[0m     subdirs \u001b[38;5;241m=\u001b[39m []\n\u001b[0;32m--> 530\u001b[0m     \u001b[38;5;28;01mfor\u001b[39;00m subdir \u001b[38;5;129;01min\u001b[39;00m \u001b[38;5;28msorted\u001b[39m(tf\u001b[38;5;241m.\u001b[39mio\u001b[38;5;241m.\u001b[39mgfile\u001b[38;5;241m.\u001b[39mlistdir(directory)):\n\u001b[1;32m    531\u001b[0m         \u001b[38;5;28;01mif\u001b[39;00m tf\u001b[38;5;241m.\u001b[39mio\u001b[38;5;241m.\u001b[39mgfile\u001b[38;5;241m.\u001b[39misdir(tf\u001b[38;5;241m.\u001b[39mio\u001b[38;5;241m.\u001b[39mgfile\u001b[38;5;241m.\u001b[39mjoin(directory, subdir)):\n\u001b[1;32m    532\u001b[0m             \u001b[38;5;28;01mif\u001b[39;00m \u001b[38;5;129;01mnot\u001b[39;00m subdir\u001b[38;5;241m.\u001b[39mstartswith(\u001b[38;5;124m\"\u001b[39m\u001b[38;5;124m.\u001b[39m\u001b[38;5;124m\"\u001b[39m):\n",
      "File \u001b[0;32m/opt/anaconda3/lib/python3.12/site-packages/tensorflow/python/lib/io/file_io.py:768\u001b[0m, in \u001b[0;36mlist_directory_v2\u001b[0;34m(path)\u001b[0m\n\u001b[1;32m    753\u001b[0m \u001b[38;5;250m\u001b[39m\u001b[38;5;124;03m\"\"\"Returns a list of entries contained within a directory.\u001b[39;00m\n\u001b[1;32m    754\u001b[0m \n\u001b[1;32m    755\u001b[0m \u001b[38;5;124;03mThe list is in arbitrary order. It does not contain the special entries \".\"\u001b[39;00m\n\u001b[0;32m   (...)\u001b[0m\n\u001b[1;32m    765\u001b[0m \u001b[38;5;124;03m  errors.NotFoundError if directory doesn't exist\u001b[39;00m\n\u001b[1;32m    766\u001b[0m \u001b[38;5;124;03m\"\"\"\u001b[39;00m\n\u001b[1;32m    767\u001b[0m \u001b[38;5;28;01mif\u001b[39;00m \u001b[38;5;129;01mnot\u001b[39;00m is_directory(path):\n\u001b[0;32m--> 768\u001b[0m   \u001b[38;5;28;01mraise\u001b[39;00m errors\u001b[38;5;241m.\u001b[39mNotFoundError(\n\u001b[1;32m    769\u001b[0m       node_def\u001b[38;5;241m=\u001b[39m\u001b[38;5;28;01mNone\u001b[39;00m,\n\u001b[1;32m    770\u001b[0m       op\u001b[38;5;241m=\u001b[39m\u001b[38;5;28;01mNone\u001b[39;00m,\n\u001b[1;32m    771\u001b[0m       message\u001b[38;5;241m=\u001b[39m\u001b[38;5;124m\"\u001b[39m\u001b[38;5;124mCould not find directory \u001b[39m\u001b[38;5;132;01m{}\u001b[39;00m\u001b[38;5;124m\"\u001b[39m\u001b[38;5;241m.\u001b[39mformat(path))\n\u001b[1;32m    773\u001b[0m \u001b[38;5;66;03m# Convert each element to string, since the return values of the\u001b[39;00m\n\u001b[1;32m    774\u001b[0m \u001b[38;5;66;03m# vector of string should be interpreted as strings, not bytes.\u001b[39;00m\n\u001b[1;32m    775\u001b[0m \u001b[38;5;28;01mreturn\u001b[39;00m [\n\u001b[1;32m    776\u001b[0m     compat\u001b[38;5;241m.\u001b[39mas_str_any(filename)\n\u001b[1;32m    777\u001b[0m     \u001b[38;5;28;01mfor\u001b[39;00m filename \u001b[38;5;129;01min\u001b[39;00m _pywrap_file_io\u001b[38;5;241m.\u001b[39mGetChildren(compat\u001b[38;5;241m.\u001b[39mpath_to_bytes(path))\n\u001b[1;32m    778\u001b[0m ]\n",
      "\u001b[0;31mNotFoundError\u001b[0m: Could not find directory /usercode/Roadsign_dataset"
     ]
    }
   ],
   "source": [
    "dataset = '/usercode/Roadsign_dataset'\n",
    "tf_dataset = tf.keras.preprocessing.image_dataset_from_directory(dataset, seed=41, shuffle=True, image_size=(256,256), batch_size=32)"
   ]
  },
  {
   "cell_type": "markdown",
   "id": "6da6d82e-6358-4507-8c5e-c442ed62a23d",
   "metadata": {},
   "source": [
    "## Get the Names and Numbers of Classes"
   ]
  },
  {
   "cell_type": "code",
   "execution_count": null,
   "id": "06348567-cc33-43ee-adff-22b104608259",
   "metadata": {},
   "outputs": [],
   "source": [
    "class_names = tf_dataset.class_names\n",
    "number_of_classes = len(class_names)\n",
    "print(f'Names of classes are {class_names} and there are {number_of_classes} in the dataset')"
   ]
  },
  {
   "cell_type": "markdown",
   "id": "4bc46e20-b43a-4806-a80f-89e46aa470ef",
   "metadata": {},
   "source": [
    "## Visualize the Dataset"
   ]
  },
  {
   "cell_type": "code",
   "execution_count": null,
   "id": "0106b6ad-8163-4782-886a-b739d278b79c",
   "metadata": {},
   "outputs": [],
   "source": [
    "plt.figure(figsize=(16,16))\n",
    "\n",
    "for image_batch, labels_batch in tf_dataset.take(1):\n",
    "    for i in range(16):\n",
    "        ax = plt.subplot(4,4,i+1)\n",
    "        plt.imshow(image_batch[i].numpy().astype(\"uint8\"))\n",
    "        plt.title(class_names[labels_batch[i]])\n",
    "        plt.axis('off')"
   ]
  },
  {
   "cell_type": "markdown",
   "id": "21d2a74e-cdc8-4bdc-ad7a-d20cf7846e50",
   "metadata": {},
   "source": [
    "## Split the Dataset"
   ]
  },
  {
   "cell_type": "code",
   "execution_count": null,
   "id": "6fbd12fe-d92e-4fb0-97e0-94475f91670a",
   "metadata": {},
   "outputs": [],
   "source": [
    "def tf_split_data(ds, train_split=0.8, val_split=0.1, test_split=0.1, shuffle=True, shuffle_size=1000):\n",
    "    ds_size = len(ds)\n",
    "\n",
    "    if shuffle:\n",
    "        ds = ds.shuffle(shuffle_size, seed=10)\n",
    "    train_size = int(train_split * ds_size)\n",
    "    val_size = int(val_split * ds_size)\n",
    "\n",
    "    train_set = ds.take(train_size)\n",
    "    val_set = ds.skip(train_size).take(val_size)\n",
    "    test_set = ds.skip(train_size).skip(val_size)\n",
    "\n",
    "    return train_set, val_set, test_set\n",
    "\n",
    "train,val,test = tf_split_data(tf_dataset)"
   ]
  },
  {
   "cell_type": "markdown",
   "id": "1df51fac-b6b3-43a3-a773-7034cd4756ce",
   "metadata": {},
   "source": [
    "## Declare Constants"
   ]
  },
  {
   "cell_type": "code",
   "execution_count": null,
   "id": "8f8bc21d-44d1-44b7-8aa2-a0694dd399bf",
   "metadata": {},
   "outputs": [],
   "source": [
    "BATCH_SIZE = 32\n",
    "IMAGE_SIZE = 256\n",
    "CHANNELS = 3\n",
    "EPOCHS = 3"
   ]
  },
  {
   "cell_type": "markdown",
   "id": "2155559e-e399-40cb-8616-f102a4d64893",
   "metadata": {},
   "source": [
    "## Shuffling Data and Prefetching"
   ]
  },
  {
   "cell_type": "code",
   "execution_count": null,
   "id": "c52373d8-6e96-4867-9e44-9a5f107a0e7a",
   "metadata": {},
   "outputs": [],
   "source": [
    "train = train.cache().shuffle(1000).prefetch(buffer_size=tf.data.AUTOTUNE)\n",
    "val = val.cache().shuffle(1000).prefetch(tf.data.AUTOTUNE)\n",
    "test = test.cache().shuffle(1000).prefetch(tf.data.AUTOTUNE)"
   ]
  },
  {
   "cell_type": "markdown",
   "id": "3ca42f4b-1840-4915-8f40-e346175e268b",
   "metadata": {},
   "source": [
    "## Resizing and Rescaling Layer"
   ]
  },
  {
   "cell_type": "code",
   "execution_count": null,
   "id": "82c3d0ae-b10e-4725-84f0-43eea0097061",
   "metadata": {},
   "outputs": [],
   "source": [
    "resize_rescale = tf.keras.Sequential([\n",
    "    layers.experimental.preprocessing.Resizing(IMAGE_SIZE,IMAGE_SIZE),\n",
    "    layers.experimental.preprocessing.Rescaling(1./255)\n",
    "])"
   ]
  },
  {
   "cell_type": "markdown",
   "id": "7068bee1-20da-4c38-96c5-8a26de7614af",
   "metadata": {},
   "source": [
    "## Data Augmentation"
   ]
  },
  {
   "cell_type": "code",
   "execution_count": null,
   "id": "ce782147-3c18-4a6f-841b-3e0f0c94ea4a",
   "metadata": {},
   "outputs": [],
   "source": [
    "data_augmentation = tf.keras.Sequential([\n",
    "    layers.experimental.preprocessing.RandomFlip('horizontal_and_vertical'),\n",
    "    layers.experimental.preprocessing.RandomRotation(0.2),\n",
    "])"
   ]
  },
  {
   "cell_type": "markdown",
   "id": "964d7e3f-40d1-47ad-a010-f1183cc2b942",
   "metadata": {},
   "source": [
    "## Implementing Data Augmentation"
   ]
  },
  {
   "cell_type": "code",
   "execution_count": null,
   "id": "64b7188f-4eda-46ab-b4dd-94b8e5ae0162",
   "metadata": {},
   "outputs": [],
   "source": [
    "train.map(\n",
    "    lambda x,y: (data_augmentation(x,training=True), y)\n",
    ").prefetch(buffer_size=tf.data.AUTOTUNE)"
   ]
  },
  {
   "cell_type": "markdown",
   "id": "cefbfcf8-f191-4048-8888-8712ed0ad636",
   "metadata": {},
   "source": [
    "## Define the Parameters for Model Building"
   ]
  },
  {
   "cell_type": "code",
   "execution_count": null,
   "id": "ee500687-26cf-4ec5-9b35-e41f23c0eb64",
   "metadata": {},
   "outputs": [],
   "source": [
    "input_shape = (BATCH_SIZE, IMAGE_SIZE, IMAGE_SIZE, CHANNELS)\n",
    "n_classes = number_of_classes #7"
   ]
  },
  {
   "cell_type": "markdown",
   "id": "9fc0a68a-57d8-4b57-b449-e5fcb8be7d23",
   "metadata": {},
   "source": [
    "## Architecturing Convolution Neural Network"
   ]
  },
  {
   "cell_type": "code",
   "execution_count": null,
   "id": "06cb1c50-cbd3-4df4-9594-d73ebc88f025",
   "metadata": {},
   "outputs": [],
   "source": [
    "model = models.Sequential([\n",
    "    resize_rescale,\n",
    "    layers.Conv2D(32, kernel_size=(3,3), activation='relu', input_shape = input_shape),\n",
    "    layers.MaxPooling2D((2,2)),\n",
    "    layers.Conv2D(64, (3,3), activation='relu'),\n",
    "    layers.MaxPooling2D((2,2)),\n",
    "    layers.Conv2D(64, (3,3), activation='relu'),\n",
    "    layers.MaxPooling2D((2,2)),\n",
    "    layers.Conv2D(64, (3,3), activation='relu'),\n",
    "    layers.MaxPooling2D((2,2)),\n",
    "    layers.Conv2D(64, (3,3), activation='relu'),\n",
    "    layers.MaxPooling2D((2,2)),\n",
    "    layers.Conv2D(64, (3,3), activation='relu'),\n",
    "    layers.MaxPooling2D((2,2)),\n",
    "    layers.Flatten(),\n",
    "    layers.Dense(64, activation='relu'),\n",
    "    layers.Dense(n_classes, activation='softmax'),\n",
    "])\n",
    "model.build(input_shape=input_shape)"
   ]
  },
  {
   "cell_type": "markdown",
   "id": "197ced9b-25a7-40a2-b5d2-bdf4408693b2",
   "metadata": {},
   "source": [
    "## Model Compilation"
   ]
  },
  {
   "cell_type": "code",
   "execution_count": null,
   "id": "bb9b1a86-51bf-4db5-aed1-e494b7f75e32",
   "metadata": {},
   "outputs": [],
   "source": [
    "model.compile(\n",
    "    optimizer = 'adam',\n",
    "    loss = tf.keras.losses.SparseCategoricalCrossentropy(from_logits=False),\n",
    "    metrics = ['accuracy']\n",
    ")"
   ]
  },
  {
   "cell_type": "markdown",
   "id": "86f44808-d1ad-421e-af19-bf0ce81d407a",
   "metadata": {},
   "source": [
    "## Train the Model"
   ]
  },
  {
   "cell_type": "code",
   "execution_count": null,
   "id": "3f4b79d7-3312-47d4-ad2b-e09135d9190e",
   "metadata": {},
   "outputs": [],
   "source": [
    "history = model.fit(\n",
    "    train, \n",
    "    batch_size = BATCH_SIZE,\n",
    "    validation_data = val,\n",
    "    verbose=1,\n",
    "    epochs=EPOCHS\n",
    ")"
   ]
  },
  {
   "cell_type": "markdown",
   "id": "11bcfd5b-ff75-43a6-949b-8fbd128344e0",
   "metadata": {},
   "source": [
    "## Evaluate the Model"
   ]
  },
  {
   "cell_type": "code",
   "execution_count": null,
   "id": "3f9b9463-7177-43de-834e-acaf4a670936",
   "metadata": {},
   "outputs": [],
   "source": [
    "scores = model.evaluate(test)"
   ]
  },
  {
   "cell_type": "markdown",
   "id": "4181a6ac-fa67-4024-a125-06a526a843d3",
   "metadata": {},
   "source": [
    "## Defining Training and Validation Metrics"
   ]
  },
  {
   "cell_type": "code",
   "execution_count": null,
   "id": "bb3cc063-ac54-4083-b5ae-376d48befcef",
   "metadata": {},
   "outputs": [],
   "source": [
    "acc = history.history['accuracy']\n",
    "val_acc = history.history['val_accuracy']\n",
    "\n",
    "loss = history.history['loss']\n",
    "val_loss = history.history['val_loss']"
   ]
  },
  {
   "cell_type": "markdown",
   "id": "ab9b5457-0abe-4e91-8c58-602e112bb6f0",
   "metadata": {},
   "source": [
    "## Plotting Accuracy and Loss Curves"
   ]
  },
  {
   "cell_type": "code",
   "execution_count": null,
   "id": "3cffaee6-cfc6-439e-a3ac-fab3bf19c5e7",
   "metadata": {},
   "outputs": [],
   "source": [
    "plt.figure(figsize=(8,8))\n",
    "plt.subplot(1,2,1)\n",
    "plt.plot(range(EPOCHS),acc,label='Training Accuracy', color='black')\n",
    "plt.plot(range(EPOCHS),val_acc,label='Validation Accuracy', color='red')\n",
    "plt.legend()\n",
    "plt.title(\"Training/Validation Accuracy vs Epochs\", fontsize=12)\n",
    "plt.xlabel('Epochs')\n",
    "plt.ylabel('Accuracy')\n",
    "\n",
    "plt.subplot(1,2,2)\n",
    "plt.plot(range(EPOCHS), loss, label='Training Loss', color='black')\n",
    "plt.plot(range(EPOCHS), val_loss, label='Validation Loss', color='red')\n",
    "plt.legend()\n",
    "plt.title('Training/Validation Loss vs Epochs', fontsize=12)\n",
    "plt.xlabel('Epochs')\n",
    "plt.ylabel('Loss')\n",
    "\n",
    "plt.show()"
   ]
  },
  {
   "cell_type": "markdown",
   "id": "af77bb05-6a78-456c-a972-bbca00fb936c",
   "metadata": {},
   "source": [
    "## Predict function"
   ]
  },
  {
   "cell_type": "code",
   "execution_count": null,
   "id": "90dcc2d2-512c-4b75-b3d9-636c3dde6437",
   "metadata": {},
   "outputs": [],
   "source": [
    "def predict(model, img):\n",
    "    img_array = tf.keras.preprocessing.image.img_to_array(img.numpy())\n",
    "    img_array = tf.expand_dims(img_array, 0)\n",
    "\n",
    "    predictions = model.predict(img_array)\n",
    "    \n",
    "    predicted_class = class_names[np.argmax(predictions[0])]\n",
    "    confidence = round(100 * (np.max(predictions[0])), 2)\n",
    "    return predicted_class, confidence"
   ]
  },
  {
   "cell_type": "markdown",
   "id": "a684e5b1-05ba-44ae-99c3-b1255e6ee5a1",
   "metadata": {},
   "source": [
    "## Test the Model on a Single Image"
   ]
  },
  {
   "cell_type": "code",
   "execution_count": null,
   "id": "c6181d4e-9123-4c40-ac56-ef8193cd17b8",
   "metadata": {},
   "outputs": [],
   "source": [
    "plt.figure(figsize=(8,8))\n",
    "plt.axis('off')\n",
    "for images_batch,labels_batch in test.take(1):\n",
    "\n",
    "    first_image = images_batch[0].numpy().astype('uint8')\n",
    "    first_label = labels_batch[0].numpy()\n",
    "\n",
    "    print('First image to predict:')\n",
    "    plt.imshow(first_image)\n",
    "    print('Actual label: ', class_names[first_label])\n",
    "\n",
    "    batch_prediction = model.predict(images_batch)\n",
    "    print('Predicted label: ', class_names[np.argmax(batch_prediction[0])])\n",
    "\n",
    "\n",
    "    "
   ]
  },
  {
   "cell_type": "markdown",
   "id": "c79d5e3e-66bd-4069-9feb-8fa6445d9fe3",
   "metadata": {},
   "source": [
    "## Test the Model on Multiple Images"
   ]
  },
  {
   "cell_type": "code",
   "execution_count": null,
   "id": "8a76c998-61ff-4ed5-8cce-6f72577f28ca",
   "metadata": {},
   "outputs": [],
   "source": [
    "plt.figure(figsize=(15,15))\n",
    "\n",
    "for image_batch, label_batch in test.take(1):\n",
    "    for i in range(12):\n",
    "        ax = plt.subplot(4,3,i+1)\n",
    "        plt.imshow(image_batch[i].numpy().astype('uint8'))\n",
    "        predicted_class,confidence = predict(model, image_batch[i])\n",
    "        actual_class = class_names[label_batch[i]]\n",
    "\n",
    "        plt.title(f'Actual: {actual_class}, \\n Predicted: {predicted_class}')\n",
    "        plt.axis('off')\n"
   ]
  }
 ],
 "metadata": {
  "kernelspec": {
   "display_name": "Python 3 (ipykernel)",
   "language": "python",
   "name": "python3"
  },
  "language_info": {
   "codemirror_mode": {
    "name": "ipython",
    "version": 3
   },
   "file_extension": ".py",
   "mimetype": "text/x-python",
   "name": "python",
   "nbconvert_exporter": "python",
   "pygments_lexer": "ipython3",
   "version": "3.12.4"
  }
 },
 "nbformat": 4,
 "nbformat_minor": 5
}
